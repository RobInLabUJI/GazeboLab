{
 "cells": [
  {
   "cell_type": "markdown",
   "metadata": {},
   "source": [
    "## Running the Mobile Manipulation Demo\n",
    "\n",
    "There is a fully integrated demo showing navigation, perception and MoveIt! working together on the robot in simulation. To run the demo, [start Gazebo simulator with the playground](fetch_world.ipynb), wait until the simulator is fully running and then run the demo launch file:"
   ]
  },
  {
   "cell_type": "code",
   "execution_count": null,
   "metadata": {},
   "outputs": [],
   "source": [
    "roslaunch fetch_gazebo_demo demo.launch"
   ]
  }
 ],
 "metadata": {
  "kernelspec": {
   "display_name": "Bash",
   "language": "bash",
   "name": "bash"
  },
  "language_info": {
   "codemirror_mode": "shell",
   "file_extension": ".sh",
   "mimetype": "text/x-sh",
   "name": "bash"
  }
 },
 "nbformat": 4,
 "nbformat_minor": 2
}
