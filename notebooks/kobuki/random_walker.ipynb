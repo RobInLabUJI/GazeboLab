{
 "cells": [
  {
   "cell_type": "markdown",
   "metadata": {},
   "source": [
    "# Kobuki Random Walker\n",
    "\n",
    "Move the Kobuki around the table, detecting the obstacles and avoiding to fall off the edge."
   ]
  },
  {
   "cell_type": "code",
   "execution_count": null,
   "metadata": {},
   "outputs": [],
   "source": [
    "import rospy\n",
    "rospy.init_node('random_walker')"
   ]
  },
  {
   "cell_type": "markdown",
   "metadata": {},
   "source": [
    "## Sensors"
   ]
  },
  {
   "cell_type": "code",
   "execution_count": null,
   "metadata": {},
   "outputs": [],
   "source": [
    "from kobuki_msgs.msg import BumperEvent\n",
    "from kobuki_msgs.msg import CliffEvent"
   ]
  },
  {
   "cell_type": "code",
   "execution_count": null,
   "metadata": {},
   "outputs": [],
   "source": [
    "def bumper_cb(msg):\n",
    "    sensor = ['left', 'center', 'right']\n",
    "    if msg.state == 1:\n",
    "        print('Obstacle detected by %s bumper' % sensor[msg.bumper])\n",
    "        \n",
    "def cliff_cb(msg):\n",
    "    sensor = ['left', 'center', 'right']\n",
    "    if msg.state == 1:\n",
    "        print('Cliff detected by %s sensor' % sensor[msg.sensor])"
   ]
  },
  {
   "cell_type": "code",
   "execution_count": null,
   "metadata": {},
   "outputs": [],
   "source": [
    "bump_sub = rospy.Subscriber(\"/mobile_base/events/bumper\", BumperEvent, bumper_cb)\n",
    "cliff_sub = rospy.Subscriber(\"/mobile_base/events/cliff\", CliffEvent, cliff_cb)"
   ]
  },
  {
   "cell_type": "code",
   "execution_count": null,
   "metadata": {},
   "outputs": [],
   "source": [
    "bump_sub.unregister()\n",
    "cliff_sub.unregister()"
   ]
  },
  {
   "cell_type": "markdown",
   "metadata": {},
   "source": [
    "## Actuators"
   ]
  },
  {
   "cell_type": "code",
   "execution_count": null,
   "metadata": {},
   "outputs": [],
   "source": [
    "from geometry_msgs.msg import Twist"
   ]
  },
  {
   "cell_type": "code",
   "execution_count": null,
   "metadata": {},
   "outputs": [],
   "source": [
    "vel_pub = rospy.Publisher('/mobile_base/commands/velocity', Twist, queue_size=10)\n",
    "vel_msg = Twist()"
   ]
  },
  {
   "cell_type": "code",
   "execution_count": null,
   "metadata": {},
   "outputs": [],
   "source": [
    "vel_msg.linear.x = 0.0\n",
    "vel_msg.angular.z = -1.5\n",
    "vel_pub.publish(vel_msg)"
   ]
  },
  {
   "cell_type": "markdown",
   "metadata": {},
   "source": [
    "## Motion Loop"
   ]
  },
  {
   "cell_type": "code",
   "execution_count": null,
   "metadata": {},
   "outputs": [],
   "source": [
    "def move(v,w):\n",
    "    vel_msg.linear.x = v\n",
    "    vel_msg.angular.z = w\n",
    "    vel_pub.publish(vel_msg)"
   ]
  },
  {
   "cell_type": "code",
   "execution_count": null,
   "metadata": {},
   "outputs": [],
   "source": [
    "def bumper_cb(msg):\n",
    "    global stop\n",
    "    if msg.state == 1:\n",
    "        stop = True\n",
    "        \n",
    "def cliff_cb(msg):\n",
    "    global stop\n",
    "    if msg.state == 1:\n",
    "        stop = True\n",
    "        \n",
    "bump_sub = rospy.Subscriber(\"/mobile_base/events/bumper\", BumperEvent, bumper_cb)\n",
    "cliff_sub = rospy.Subscriber(\"/mobile_base/events/cliff\", CliffEvent, cliff_cb)"
   ]
  },
  {
   "cell_type": "code",
   "execution_count": null,
   "metadata": {},
   "outputs": [],
   "source": [
    "stop = False\n",
    "while not stop:\n",
    "    move(0.3, 0.0)\n",
    "move(0.0, 0.0)"
   ]
  },
  {
   "cell_type": "code",
   "execution_count": null,
   "metadata": {},
   "outputs": [],
   "source": [
    "move(-0.3, 0.0)"
   ]
  },
  {
   "cell_type": "code",
   "execution_count": null,
   "metadata": {},
   "outputs": [],
   "source": [
    "move(0.0, 1.0)"
   ]
  },
  {
   "cell_type": "markdown",
   "metadata": {},
   "source": [
    "## Infinite Motion"
   ]
  },
  {
   "cell_type": "code",
   "execution_count": null,
   "metadata": {},
   "outputs": [],
   "source": [
    "import random\n",
    "import time"
   ]
  },
  {
   "cell_type": "code",
   "execution_count": null,
   "metadata": {},
   "outputs": [],
   "source": [
    "try:\n",
    "    while True:\n",
    "        stop = False\n",
    "        while not stop:\n",
    "            move(0.3, 0.0)\n",
    "        move(-0.3, 0.0)\n",
    "        time.sleep(1.0)\n",
    "        if random.random() < 0.5:\n",
    "            move(0.0, 1.0)\n",
    "        else:\n",
    "            move(0.0, -1.0)\n",
    "        time.sleep(1.0)\n",
    "except KeyboardInterrupt:\n",
    "    move(0.0, 0.0)"
   ]
  },
  {
   "cell_type": "markdown",
   "metadata": {},
   "source": [
    "## Exercise\n",
    "\n",
    "1. Program an infinite loop taking into account which sensor is fired (left, center, right).\n",
    "2. Replace the constant times by random times."
   ]
  },
  {
   "cell_type": "code",
   "execution_count": null,
   "metadata": {},
   "outputs": [],
   "source": []
  }
 ],
 "metadata": {
  "kernelspec": {
   "display_name": "Python 2",
   "language": "python",
   "name": "python2"
  },
  "language_info": {
   "codemirror_mode": {
    "name": "ipython",
    "version": 2
   },
   "file_extension": ".py",
   "mimetype": "text/x-python",
   "name": "python",
   "nbconvert_exporter": "python",
   "pygments_lexer": "ipython2",
   "version": "2.7.12"
  }
 },
 "nbformat": 4,
 "nbformat_minor": 2
}
